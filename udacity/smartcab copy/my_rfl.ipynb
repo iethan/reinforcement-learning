{
 "cells": [
  {
   "cell_type": "code",
   "execution_count": 62,
   "metadata": {
    "collapsed": false
   },
   "outputs": [
    {
     "data": {
      "image/png": "[encoded data removed]",
      "text/plain": [
       "<matplotlib.figure.Figure at 0x108534780>"
      ]
     },
     "metadata": {},
     "output_type": "display_data"
    }
   ],
   "source": [
    "import numpy as np\n",
    "from scipy import stats\n",
    "import random\n",
    "import matplotlib.pyplot as plt\n",
    "%matplotlib inline\n",
    "\n",
    "num_of_arms = 10\n",
    "arms = np.random.rand(num_of_arms)\n",
    "epsilon = 0.1\n",
    "\n",
    "action_value_history = np.ones(num_of_arms) #stores history of action / values\n",
    "count_actions = np.zeros(num_of_arms)       #counts the actions taken over time\n",
    "\n",
    "def given_reward(probability):\n",
    "    total_rewards = 0                       #counter for rewards\n",
    "    for run_time in range(10):              #cycles in trying to increase total rewards\n",
    "        if random.random() > probability:   #randomly assign a reward only if greater than the probability\n",
    "            total_rewards += 1              #add a reward if randomly is greater than the probability\n",
    "    return total_rewards                    #return the total rewards\n",
    "    \n",
    "def greatest_arm(action):\n",
    "    return np.argmax(action)                #returns the best arm\n",
    "\n",
    "plt.xlabel(\"Plays\")\n",
    "plt.ylabel(\"Mean Reward\")\n",
    "\n",
    "for i in range(100):\n",
    "    if random.random() > epsilon:           #randomly use our history to make a prediction of where to go\n",
    "       \n",
    "        best_action_value_index = greatest_arm(action_value_history) #find the index of the best arm       \n",
    "        count_actions[best_action_value_index] += 1 #adds 1 to the number of cycles        \n",
    "        k_ = count_actions[best_action_value_index] #k is the place we are in history, i.e. the cycle number               \n",
    "        best_arm_choice = arms[best_action_value_index] #actually chooses the arm        \n",
    "        reward = given_reward(best_arm_choice) #give rewards to the best arm        \n",
    "        old_average = action_value_history[best_action_value_index]        \n",
    "        new_average = old_average + (1/k_)*(reward - old_average) #updates the running average       \n",
    "        action_value_history[best_action_value_index] = new_average\n",
    "\n",
    "    else:\n",
    "        random_choice_index = np.where(action_value_history == np.random.choice(action_value_history))[0][0] #find the index of the best arm       \n",
    "        count_actions[random_choice_index] += 1 #adds 1 to the number of cycles        \n",
    "        k_ = count_actions[random_choice_index] #k is the place we are in history, i.e. the cycle number               \n",
    "        best_arm_choice = arms[random_choice_index] #actually chooses the arm        \n",
    "        reward = given_reward(best_arm_choice) #give rewards to the best arm        \n",
    "        old_average = action_value_history[random_choice_index]        \n",
    "        new_average = old_average + (1/k_)*(reward - old_average) #updates the running average       \n",
    "        action_value_history[random_choice_index] = new_average\n",
    "    runningMean = np.average(action_value_history, weights=np.array([count_actions[j]/np.sum(count_actions) for j in range(len(count_actions))]))\n",
    "    \n",
    "    plt.scatter(i, runningMean)    \n",
    "    \n",
    "    \n",
    "    \n",
    "    \n",
    "    \n",
    "    \n",
    "    "
   ]
  },
  {
   "cell_type": "code",
   "execution_count": null,
   "metadata": {
    "collapsed": true
   },
   "outputs": [],
   "source": []
  },
  {
   "cell_type": "code",
   "execution_count": null,
   "metadata": {
    "collapsed": true
   },
   "outputs": [],
   "source": []
  }
 ],
 "metadata": {
  "kernelspec": {
   "display_name": "Python 3",
   "language": "python",
   "name": "python3"
  },
  "language_info": {
   "codemirror_mode": {
    "name": "ipython",
    "version": 3
   },
   "file_extension": ".py",
   "mimetype": "text/x-python",
   "name": "python",
   "nbconvert_exporter": "python",
   "pygments_lexer": "ipython3",
   "version": "3.4.2"
  }
 },
 "nbformat": 4,
 "nbformat_minor": 2
}
